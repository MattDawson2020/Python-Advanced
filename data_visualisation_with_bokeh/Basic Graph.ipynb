{
 "cells": [
  {
   "cell_type": "code",
   "execution_count": 6,
   "id": "87c382cc",
   "metadata": {},
   "outputs": [],
   "source": [
    "#making a basic bokeh line graph\n",
    "#import bokeh\n",
    "from bokeh.plotting import figure\n",
    "from bokeh.io import output_file, show\n",
    "\n",
    "#data\n",
    "x=[1, 2, 3, 4, 5]\n",
    "y=[6, 7, 8, 9, 10]\n",
    "\n",
    "#output file, create a html file to put fraph on\n",
    "output_file(\"Line.html\")\n",
    "\n",
    "#create figure object\n",
    "f=figure()\n",
    "\n",
    "#create line plot\n",
    "f.line(x, y)\n",
    "show(f)\n",
    "\n",
    "## this simple code can already create an interactive graph\n"
   ]
  },
  {
   "cell_type": "code",
   "execution_count": 8,
   "id": "c11cd972",
   "metadata": {},
   "outputs": [],
   "source": [
    "f2=figure()\n",
    "f2.triangle(x,y)\n",
    "show(f2)"
   ]
  },
  {
   "cell_type": "code",
   "execution_count": 10,
   "id": "06ca5447",
   "metadata": {},
   "outputs": [],
   "source": [
    "f3=figure()\n",
    "f3.circle(x,y)\n",
    "show(f3)"
   ]
  },
  {
   "cell_type": "code",
   "execution_count": 11,
   "id": "05479196",
   "metadata": {},
   "outputs": [],
   "source": [
    "#making a basic bokeh line graph\n",
    "#import bokeh and pandas\n",
    "from bokeh.plotting import figure\n",
    "from bokeh.io import output_file, show\n",
    "import pandas\n",
    "\n",
    "#data\n",
    "df = pandas.read_csv(\"data.csv\")\n",
    "x = df['x']\n",
    "y= df['y']\n",
    "#output file, create a html file to put fraph on\n",
    "output_file(\"Line_from_csv.html\")\n",
    "\n",
    "#create figure object\n",
    "f=figure()\n",
    "\n",
    "#create line plot\n",
    "f.line(x, y)\n",
    "show(f)\n",
    "\n",
    "## this simple code can already create an interactive graph\n"
   ]
  },
  {
   "cell_type": "code",
   "execution_count": 14,
   "id": "7b1a5070",
   "metadata": {},
   "outputs": [],
   "source": [
    "# exercise\n",
    "from bokeh.plotting import figure\n",
    "from bokeh.io import output_file, show\n",
    "import pandas\n",
    "\n",
    "#data\n",
    "df=pandas.read_csv(\"http://pythonhow.com/data/bachelors.csv\")\n",
    "x=df['Year']\n",
    "y=df['Engineering']\n",
    "\n",
    "output_file(\"Line_from_bachelors.html\")\n",
    "\n",
    "fig = figure()\n",
    "fig.line(x,y)\n",
    "show(fig)"
   ]
  },
  {
   "cell_type": "code",
   "execution_count": 25,
   "id": "31d6918c",
   "metadata": {},
   "outputs": [],
   "source": [
    "#exercise 2\n",
    "\n",
    "import pandas\n",
    "from bokeh.plotting import figure, output_file, show\n",
    "                \n",
    "df=pandas.read_excel(\"http://pythonhow.com/data/verlegenhuken.xlsx\",sheet_name=0)\n",
    "df[\"Temperature\"]=df[\"Temperature\"]/10\n",
    "df[\"Pressure\"]=df[\"Pressure\"]/10\n",
    " \n",
    "p=figure(plot_width=500,plot_height=400,tools='pan')\n",
    "\n",
    "p.title.text=\"Temperature and Air Pressure\"\n",
    "p.title.text_color=\"Gray\"\n",
    "p.title.text_font=\"arial\"\n",
    "p.title.text_font_style=\"bold\"\n",
    "p.xaxis.minor_tick_line_color=None\n",
    "p.yaxis.minor_tick_line_color=None\n",
    "p.xaxis.axis_label=\"Temperature (°C)\"\n",
    "p.yaxis.axis_label=\"Pressure (hPa)\"   \n",
    "\n",
    "output_file(\"Weather.html\")\n",
    "p.circle(df['Temperature'], df['Pressure'], size=0.5)\n",
    "show(p)"
   ]
  },
  {
   "cell_type": "code",
   "execution_count": 12,
   "id": "23697dfa",
   "metadata": {},
   "outputs": [],
   "source": [
    "## time series plot \n",
    "# from bokeh.plotting import figure, output_file, show\n",
    "# import pandas\n",
    "\n",
    "# df=pandas.read_csv(\"http://www.google.com/finance/historical?q=NASDAQ:ADBE&startdate=Jan+01%2C+2009&enddate=Aug+2%2C+2012&output=csv\", parse_dates=[\"Date\"])\n",
    "                    \n",
    "# tp=figure(width=500, height=500, x_axis_type='datetime')\n",
    "\n",
    "# tp.line(df['Date'], df['Close'], colors=\"Orange\", alpha=0.5)\n",
    "# output_file(\"Timeseries.html\")\n",
    "# show(tp)\n",
    "\n",
    "#problem with data on other side, doesnt recognise date column"
   ]
  },
  {
   "cell_type": "code",
   "execution_count": null,
   "id": "54e6466c",
   "metadata": {},
   "outputs": [],
   "source": []
  }
 ],
 "metadata": {
  "kernelspec": {
   "display_name": "Python 3 (ipykernel)",
   "language": "python",
   "name": "python3"
  },
  "language_info": {
   "codemirror_mode": {
    "name": "ipython",
    "version": 3
   },
   "file_extension": ".py",
   "mimetype": "text/x-python",
   "name": "python",
   "nbconvert_exporter": "python",
   "pygments_lexer": "ipython3",
   "version": "3.9.6"
  }
 },
 "nbformat": 4,
 "nbformat_minor": 5
}
